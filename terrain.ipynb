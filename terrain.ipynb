{
 "cells": [
  {
   "cell_type": "code",
   "execution_count": 10,
   "metadata": {},
   "outputs": [],
   "source": [
    "#creating the sea terrain with noise\n",
    "\n",
    "import noise\n",
    "\n",
    "def generate_perlin_noise(width, height, scale, octaves, persistence, lacunarity, seed):\n",
    "    perlin_noise = [[0] * height for _ in range(width)]\n",
    "    for i in range(width):\n",
    "        for j in range(height):\n",
    "            perlin_noise[i][j] = noise.pnoise2(i / scale,\n",
    "                                                j / scale,\n",
    "                                                octaves=octaves,\n",
    "                                                persistence=persistence,\n",
    "                                                lacunarity=lacunarity,\n",
    "                                                repeatx=1024,\n",
    "                                                repeaty=1024,\n",
    "                                                base=seed)\n",
    "    return perlin_noise"
   ]
  },
  {
   "cell_type": "code",
   "execution_count": 11,
   "metadata": {},
   "outputs": [],
   "source": [
    "#plot noise\n",
    "import matplotlib.pyplot as plt\n",
    "import numpy as np\n",
    "\n",
    "\n",
    "def plot_perlin_noise(perlin_noise):\n",
    "    # Convert the 2D list to a NumPy array for easier plotting\n",
    "    perlin_array = np.array(perlin_noise)\n",
    "    \n",
    "    plt.figure(figsize=(8, 6))\n",
    "    plt.imshow(perlin_array, cmap='terrain', interpolation='nearest')\n",
    "    plt.colorbar(label='Height')\n",
    "    plt.title('Perlin Noise Terrain')\n",
    "    plt.xlabel('X')\n",
    "    plt.ylabel('Y')\n",
    "    plt.show()"
   ]
  },
  {
   "cell_type": "code",
   "execution_count": 23,
   "metadata": {},
   "outputs": [
    {
     "data": {
      "text/plain": [
       "1024"
      ]
     },
     "execution_count": 23,
     "metadata": {},
     "output_type": "execute_result"
    }
   ],
   "source": [
    "#main\n",
    "#variables\n",
    "width = 1024\n",
    "height = 1024\n",
    "scale = 100\n",
    "octaves = 8\n",
    "persistence = 0.6 # higher = more rough terrain, #lower = smoother terrain\n",
    "lacunarity = 2.5 #Higher lacunarity values result in more detailed terrain with smaller features, while lower values produce larger features.\n",
    "seed = 10\n",
    "\n",
    "\n",
    "perlin_noise = generate_perlin_noise(width, height, scale, octaves, persistence, lacunarity, seed)\n",
    "#perlin_noise is 1024x1024\n",
    "len(perlin_noise[0])\n",
    "\n",
    "#plot_perlin_noise(perlin_noise)"
   ]
  },
  {
   "cell_type": "code",
   "execution_count": 29,
   "metadata": {},
   "outputs": [
    {
     "name": "stdout",
     "output_type": "stream",
     "text": [
      "shape: (1024, 1024)\n"
     ]
    }
   ],
   "source": [
    "#rendering in 3d\n",
    "from PIL import Image\n",
    "import numpy as np\n",
    "import cv2\n",
    "\n",
    "def save_as_png(perlin_noise, file_path):\n",
    "    # Convert the 2D array to a grayscale image\n",
    "    perlin_noise_np = np.array(perlin_noise)\n",
    "    perlin_image = (perlin_noise_np * 255).astype(np.uint8)\n",
    "    print(f\"shape: {perlin_image.shape}\")\n",
    "    cv2.imwrite(file_path, perlin_image)\n",
    "    # Save the image as PNG format\n",
    "\n",
    "\n",
    "file_path = 'terrain_data.png'\n",
    "save_as_png(perlin_noise, file_path)\n",
    "\n",
    "\n"
   ]
  }
 ],
 "metadata": {
  "kernelspec": {
   "display_name": "Python 3",
   "language": "python",
   "name": "python3"
  },
  "language_info": {
   "codemirror_mode": {
    "name": "ipython",
    "version": 3
   },
   "file_extension": ".py",
   "mimetype": "text/x-python",
   "name": "python",
   "nbconvert_exporter": "python",
   "pygments_lexer": "ipython3",
   "version": "3.11.3"
  },
  "orig_nbformat": 4
 },
 "nbformat": 4,
 "nbformat_minor": 2
}
